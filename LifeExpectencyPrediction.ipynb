{
  "nbformat": 4,
  "nbformat_minor": 0,
  "metadata": {
    "colab": {
      "name": "LifeExpectencyPrediction.ipynb",
      "provenance": [],
      "collapsed_sections": [
        "e0m-cw5ROnf3",
        "NvUGC8QQV6bV",
        "fhYaZ-ENV_c5",
        "k1qBzJZBmhgv",
        "bhuw9_-rDFIT",
        "0CiriUq01Upe",
        "ULqNvUwZ8_re",
        "WtyC_xLvDJkd",
        "3abSxRqvWEIB",
        "TpGqbS4TqkIR",
        "uzbXgfbcZvf3",
        "5kpIh9_oPFQB",
        "k-McZVsQBINc",
        "xNkXL1YQBiBT",
        "Fz1uTlWV919-",
        "DXfNF2BzPX3I",
        "Rb5nWuSHEfBV",
        "pzF3BRps9nlk",
        "-8mwHGHZQTGy",
        "4UPnL92VPovB",
        "YS8FeLHYS-nI",
        "eiU6D2QFRjxY",
        "aPYA5W1pDBOE",
        "CMsYlps2DX1d",
        "_ROcqqwdPo3H",
        "g16qFkFQVC35",
        "Nao9cdO6IgNb",
        "pTeGzopCPpMZ",
        "v4S2fyIBYDcu",
        "DM_jh0frOPKE",
        "Cd8VZM5POWXN",
        "wTImwaxUb8t9",
        "X-fc3dOacRnq",
        "cm1-yNGycJJF",
        "foPXyGOYx8nn",
        "VpydfhZ7ySq8"
      ],
      "toc_visible": true,
      "authorship_tag": "ABX9TyPHXxs66Zxjtq/kkpo4d8IL",
      "include_colab_link": true
    },
    "kernelspec": {
      "name": "python3",
      "display_name": "Python 3"
    }
  },
  "cells": [
    {
      "cell_type": "markdown",
      "metadata": {
        "id": "view-in-github",
        "colab_type": "text"
      },
      "source": [
        "<a href=\"https://colab.research.google.com/github/Git-Codder/Life-Expectacncy-/blob/main/LifeExpectencyPrediction.ipynb\" target=\"_parent\"><img src=\"https://colab.research.google.com/assets/colab-badge.svg\" alt=\"Open In Colab\"/></a>"
      ]
    },
    {
      "cell_type": "markdown",
      "metadata": {
        "id": "3aSbTK_8OXDU"
      },
      "source": [
        "# <font color='Moderate'> Life Expectancy Prediction Machine Learning Project"
      ]
    },
    {
      "cell_type": "markdown",
      "metadata": {
        "id": "e0m-cw5ROnf3"
      },
      "source": [
        "# <font color='Red'> Data Preprocessing (Data Science Part)\n",
        "\n",
        "---\n",
        "\n"
      ]
    },
    {
      "cell_type": "markdown",
      "metadata": {
        "id": "NvUGC8QQV6bV"
      },
      "source": [
        "### Importing the libraries"
      ]
    },
    {
      "cell_type": "code",
      "metadata": {
        "id": "wfFEXZC0WS-V"
      },
      "source": [
        "import numpy as np\n",
        "import matplotlib.pyplot as plt\n",
        "import pandas as pd"
      ],
      "execution_count": null,
      "outputs": []
    },
    {
      "cell_type": "markdown",
      "metadata": {
        "id": "fhYaZ-ENV_c5"
      },
      "source": [
        "### Importing the Datasets"
      ]
    },
    {
      "cell_type": "code",
      "metadata": {
        "id": "aqHTg9bxWT_u"
      },
      "source": [
        "df = pd.read_csv('Life Expectancy Data.csv')"
      ],
      "execution_count": null,
      "outputs": []
    },
    {
      "cell_type": "markdown",
      "metadata": {
        "id": "k1qBzJZBmhgv"
      },
      "source": [
        "### To visualise and read the dataset \n",
        "\n",
        "To know more -> [Click Here](https://datacarpentry.org/python-ecology-lesson/02-starting-with-data/index.html)\n"
      ]
    },
    {
      "cell_type": "code",
      "metadata": {
        "id": "RNgGxAw9hZaI"
      },
      "source": [
        "#Function to Print the value together\n",
        "def countUniqType(dataset) :\n",
        "  dataList = []\n",
        "  colName = list(dataset.columns.values)\n",
        "  for i in colName : \n",
        "    temp = []\n",
        "    temp = [i,dataset[i].nunique(),dataset[i].isnull().sum(),dataset[i].dtypes]\n",
        "    dataList.append(temp)\n",
        "\n",
        "  #changing 2-d list to dataframe\n",
        "  df_data = pd.DataFrame(dataList)\n",
        "  # df_data = df_data.transpose()\n",
        "  df_data.columns = [\"Column Name\", \"Unique Value \", \"Missing Value\", \"Data Type\"]\n",
        "  print(df_data)\n",
        "\n",
        "  return \n",
        "\n",
        "#function for read and analysis the dataset\n",
        "def read_and_analysis(data) :\n",
        "  print(\" Data : \")\n",
        "  print(data.head())\n",
        "  print()\n",
        "  print(40 * '*')\n",
        "  print(\"Data Shape : \",data.shape)\n",
        "  print()\n",
        "  print(40 * '*')\n",
        "  print()\n",
        "  print(40 * '*')\n",
        "  \n",
        "  return "
      ],
      "execution_count": null,
      "outputs": []
    },
    {
      "cell_type": "code",
      "metadata": {
        "colab": {
          "base_uri": "https://localhost:8080/"
        },
        "id": "K2atz8spnq9-",
        "outputId": "35b6ea53-78dc-4f93-cfdb-4f3105ea3f27"
      },
      "source": [
        "read_and_analysis(df)\n",
        "countUniqType(df)\n",
        "# print(df.values)"
      ],
      "execution_count": null,
      "outputs": [
        {
          "output_type": "stream",
          "text": [
            " Data : \n",
            "       Country  Year  ... Income composition of resources  Schooling\n",
            "0  Afghanistan  2015  ...                           0.479       10.1\n",
            "1  Afghanistan  2014  ...                           0.476       10.0\n",
            "2  Afghanistan  2013  ...                           0.470        9.9\n",
            "3  Afghanistan  2012  ...                           0.463        9.8\n",
            "4  Afghanistan  2011  ...                           0.454        9.5\n",
            "\n",
            "[5 rows x 22 columns]\n",
            "\n",
            "****************************************\n",
            "Data Shape :  (2938, 22)\n",
            "\n",
            "****************************************\n",
            "\n",
            "****************************************\n",
            "                        Column Name  Unique Value   Missing Value Data Type\n",
            "0                           Country            193              0    object\n",
            "1                              Year             16              0     int64\n",
            "2                            Status              2              0    object\n",
            "3                  Life expectancy             362             10   float64\n",
            "4                   Adult Mortality            425             10   float64\n",
            "5                     infant deaths            209              0     int64\n",
            "6                           Alcohol           1076            194   float64\n",
            "7            percentage expenditure           2328              0   float64\n",
            "8                       Hepatitis B             87            553   float64\n",
            "9                          Measles             958              0     int64\n",
            "10                             BMI             608             34   float64\n",
            "11               under-five deaths             252              0     int64\n",
            "12                            Polio             73             19   float64\n",
            "13                Total expenditure            818            226   float64\n",
            "14                      Diphtheria              81             19   float64\n",
            "15                         HIV/AIDS            200              0   float64\n",
            "16                              GDP           2490            448   float64\n",
            "17                       Population           2278            652   float64\n",
            "18             thinness  1-19 years            200             34   float64\n",
            "19               thinness 5-9 years            207             34   float64\n",
            "20  Income composition of resources            625            167   float64\n",
            "21                        Schooling            173            163   float64\n"
          ],
          "name": "stdout"
        }
      ]
    },
    {
      "cell_type": "markdown",
      "metadata": {
        "id": "bhuw9_-rDFIT"
      },
      "source": [
        "### droping coulumns (Using unique value strategy) (May be a Bad Stratgey)"
      ]
    },
    {
      "cell_type": "code",
      "metadata": {
        "id": "0Mc05iM_qAaU"
      },
      "source": [
        "# Function to drop the column which has unique value less than 1% of the datset row\n",
        "def dropByuniqu(dataset) : \n",
        "  colName = list(dataset.columns.values)\n",
        "  onepercent = (dataset.shape[0])//100;\n",
        "  for i in colName : \n",
        "    if(dataset[i].nunique() < onepercent) : \n",
        "      dataset.drop(i,axis=1,inplace=True)\n",
        "\n",
        "  return \n",
        "\n",
        "# Function to drop the columns which has missing value greter than 99% of the dataset row_count\n",
        "def dropBymissing(dataset) : \n",
        "  colName = list(dataset.columns.values)\n",
        "  ninetyninepercent = (dataset.shape[0]*99)//100;\n",
        "  for i in colName : \n",
        "    if(dataset[i].isnull().sum() > ninetyninepercent) : \n",
        "      dataset.drop(i,axis=1,inplace=True)\n",
        "\n",
        "  return \n"
      ],
      "execution_count": null,
      "outputs": []
    },
    {
      "cell_type": "code",
      "metadata": {
        "colab": {
          "base_uri": "https://localhost:8080/"
        },
        "id": "d_XgM8hTyYkX",
        "outputId": "7869b6b5-a132-4282-ea87-8451471f5f52"
      },
      "source": [
        "dropBymissing(df)\n",
        "\n",
        "#drop country column (It does not have any impact on Life Expectancy)\n",
        "df.drop('Country',axis=1,inplace=True)\n",
        "\n",
        "print(df.shape)\n",
        "print(df.dtypes)"
      ],
      "execution_count": null,
      "outputs": [
        {
          "output_type": "stream",
          "text": [
            "(2938, 21)\n",
            "Year                                 int64\n",
            "Status                              object\n",
            "Life expectancy                    float64\n",
            "Adult Mortality                    float64\n",
            "infant deaths                        int64\n",
            "Alcohol                            float64\n",
            "percentage expenditure             float64\n",
            "Hepatitis B                        float64\n",
            "Measles                              int64\n",
            " BMI                               float64\n",
            "under-five deaths                    int64\n",
            "Polio                              float64\n",
            "Total expenditure                  float64\n",
            "Diphtheria                         float64\n",
            " HIV/AIDS                          float64\n",
            "GDP                                float64\n",
            "Population                         float64\n",
            " thinness  1-19 years              float64\n",
            " thinness 5-9 years                float64\n",
            "Income composition of resources    float64\n",
            "Schooling                          float64\n",
            "dtype: object\n"
          ],
          "name": "stdout"
        }
      ]
    },
    {
      "cell_type": "markdown",
      "metadata": {
        "id": "0CiriUq01Upe"
      },
      "source": [
        "### Encoding DataFrame "
      ]
    },
    {
      "cell_type": "code",
      "metadata": {
        "id": "3bGD_Z3B02gn"
      },
      "source": [
        "def encode_and_bind(original_dataframe, feature_to_encode):\n",
        "  dummies = pd.get_dummies(original_dataframe[[feature_to_encode]])\n",
        "  original_dataframe.drop(feature_to_encode,axis=1,inplace=True)\n",
        "  res = pd.concat([original_dataframe, dummies], axis=1)\n",
        "  return(res)\n",
        "  \n",
        "df = encode_and_bind(df,'Status')"
      ],
      "execution_count": null,
      "outputs": []
    },
    {
      "cell_type": "code",
      "metadata": {
        "id": "LMexzbTDw_Zb",
        "colab": {
          "base_uri": "https://localhost:8080/"
        },
        "outputId": "9d29cb7c-de0f-44f5-af9f-cb063badfeb2"
      },
      "source": [
        "df.head()"
      ],
      "execution_count": null,
      "outputs": [
        {
          "output_type": "execute_result",
          "data": {
            "text/html": [
              "<div>\n",
              "<style scoped>\n",
              "    .dataframe tbody tr th:only-of-type {\n",
              "        vertical-align: middle;\n",
              "    }\n",
              "\n",
              "    .dataframe tbody tr th {\n",
              "        vertical-align: top;\n",
              "    }\n",
              "\n",
              "    .dataframe thead th {\n",
              "        text-align: right;\n",
              "    }\n",
              "</style>\n",
              "<table border=\"1\" class=\"dataframe\">\n",
              "  <thead>\n",
              "    <tr style=\"text-align: right;\">\n",
              "      <th></th>\n",
              "      <th>Year</th>\n",
              "      <th>Life expectancy</th>\n",
              "      <th>Adult Mortality</th>\n",
              "      <th>infant deaths</th>\n",
              "      <th>Alcohol</th>\n",
              "      <th>percentage expenditure</th>\n",
              "      <th>Hepatitis B</th>\n",
              "      <th>Measles</th>\n",
              "      <th>BMI</th>\n",
              "      <th>under-five deaths</th>\n",
              "      <th>Polio</th>\n",
              "      <th>Total expenditure</th>\n",
              "      <th>Diphtheria</th>\n",
              "      <th>HIV/AIDS</th>\n",
              "      <th>GDP</th>\n",
              "      <th>Population</th>\n",
              "      <th>thinness  1-19 years</th>\n",
              "      <th>thinness 5-9 years</th>\n",
              "      <th>Income composition of resources</th>\n",
              "      <th>Schooling</th>\n",
              "      <th>Status_Developed</th>\n",
              "      <th>Status_Developing</th>\n",
              "    </tr>\n",
              "  </thead>\n",
              "  <tbody>\n",
              "    <tr>\n",
              "      <th>0</th>\n",
              "      <td>2015</td>\n",
              "      <td>65.0</td>\n",
              "      <td>263.0</td>\n",
              "      <td>62</td>\n",
              "      <td>0.01</td>\n",
              "      <td>71.279624</td>\n",
              "      <td>65.0</td>\n",
              "      <td>1154</td>\n",
              "      <td>19.1</td>\n",
              "      <td>83</td>\n",
              "      <td>6.0</td>\n",
              "      <td>8.16</td>\n",
              "      <td>65.0</td>\n",
              "      <td>0.1</td>\n",
              "      <td>584.259210</td>\n",
              "      <td>33736494.0</td>\n",
              "      <td>17.2</td>\n",
              "      <td>17.3</td>\n",
              "      <td>0.479</td>\n",
              "      <td>10.1</td>\n",
              "      <td>0</td>\n",
              "      <td>1</td>\n",
              "    </tr>\n",
              "    <tr>\n",
              "      <th>1</th>\n",
              "      <td>2014</td>\n",
              "      <td>59.9</td>\n",
              "      <td>271.0</td>\n",
              "      <td>64</td>\n",
              "      <td>0.01</td>\n",
              "      <td>73.523582</td>\n",
              "      <td>62.0</td>\n",
              "      <td>492</td>\n",
              "      <td>18.6</td>\n",
              "      <td>86</td>\n",
              "      <td>58.0</td>\n",
              "      <td>8.18</td>\n",
              "      <td>62.0</td>\n",
              "      <td>0.1</td>\n",
              "      <td>612.696514</td>\n",
              "      <td>327582.0</td>\n",
              "      <td>17.5</td>\n",
              "      <td>17.5</td>\n",
              "      <td>0.476</td>\n",
              "      <td>10.0</td>\n",
              "      <td>0</td>\n",
              "      <td>1</td>\n",
              "    </tr>\n",
              "    <tr>\n",
              "      <th>2</th>\n",
              "      <td>2013</td>\n",
              "      <td>59.9</td>\n",
              "      <td>268.0</td>\n",
              "      <td>66</td>\n",
              "      <td>0.01</td>\n",
              "      <td>73.219243</td>\n",
              "      <td>64.0</td>\n",
              "      <td>430</td>\n",
              "      <td>18.1</td>\n",
              "      <td>89</td>\n",
              "      <td>62.0</td>\n",
              "      <td>8.13</td>\n",
              "      <td>64.0</td>\n",
              "      <td>0.1</td>\n",
              "      <td>631.744976</td>\n",
              "      <td>31731688.0</td>\n",
              "      <td>17.7</td>\n",
              "      <td>17.7</td>\n",
              "      <td>0.470</td>\n",
              "      <td>9.9</td>\n",
              "      <td>0</td>\n",
              "      <td>1</td>\n",
              "    </tr>\n",
              "    <tr>\n",
              "      <th>3</th>\n",
              "      <td>2012</td>\n",
              "      <td>59.5</td>\n",
              "      <td>272.0</td>\n",
              "      <td>69</td>\n",
              "      <td>0.01</td>\n",
              "      <td>78.184215</td>\n",
              "      <td>67.0</td>\n",
              "      <td>2787</td>\n",
              "      <td>17.6</td>\n",
              "      <td>93</td>\n",
              "      <td>67.0</td>\n",
              "      <td>8.52</td>\n",
              "      <td>67.0</td>\n",
              "      <td>0.1</td>\n",
              "      <td>669.959000</td>\n",
              "      <td>3696958.0</td>\n",
              "      <td>17.9</td>\n",
              "      <td>18.0</td>\n",
              "      <td>0.463</td>\n",
              "      <td>9.8</td>\n",
              "      <td>0</td>\n",
              "      <td>1</td>\n",
              "    </tr>\n",
              "    <tr>\n",
              "      <th>4</th>\n",
              "      <td>2011</td>\n",
              "      <td>59.2</td>\n",
              "      <td>275.0</td>\n",
              "      <td>71</td>\n",
              "      <td>0.01</td>\n",
              "      <td>7.097109</td>\n",
              "      <td>68.0</td>\n",
              "      <td>3013</td>\n",
              "      <td>17.2</td>\n",
              "      <td>97</td>\n",
              "      <td>68.0</td>\n",
              "      <td>7.87</td>\n",
              "      <td>68.0</td>\n",
              "      <td>0.1</td>\n",
              "      <td>63.537231</td>\n",
              "      <td>2978599.0</td>\n",
              "      <td>18.2</td>\n",
              "      <td>18.2</td>\n",
              "      <td>0.454</td>\n",
              "      <td>9.5</td>\n",
              "      <td>0</td>\n",
              "      <td>1</td>\n",
              "    </tr>\n",
              "  </tbody>\n",
              "</table>\n",
              "</div>"
            ],
            "text/plain": [
              "   Year  Life expectancy   ...  Status_Developed  Status_Developing\n",
              "0  2015              65.0  ...                 0                  1\n",
              "1  2014              59.9  ...                 0                  1\n",
              "2  2013              59.9  ...                 0                  1\n",
              "3  2012              59.5  ...                 0                  1\n",
              "4  2011              59.2  ...                 0                  1\n",
              "\n",
              "[5 rows x 22 columns]"
            ]
          },
          "metadata": {
            "tags": []
          },
          "execution_count": 371
        }
      ]
    },
    {
      "cell_type": "markdown",
      "metadata": {
        "id": "ULqNvUwZ8_re"
      },
      "source": [
        "### Handling missing values in Dataset \n",
        "\n",
        "To know more about missing values handling -> [Click Here](https://towardsdatascience.com/data-cleaning-with-python-and-pandas-detecting-missing-values-3e9c6ebcf78b) \n"
      ]
    },
    {
      "cell_type": "code",
      "metadata": {
        "id": "PfNmGu5f9IJ6",
        "colab": {
          "base_uri": "https://localhost:8080/"
        },
        "outputId": "15dd0200-e57c-4c7a-b0d3-a433ec55252d"
      },
      "source": [
        "from sklearn.impute import KNNImputer\n",
        "\n",
        "imputer = KNNImputer(n_neighbors=5)\n",
        "df = pd.DataFrame(imputer.fit_transform(df),columns = df.columns)\n",
        "df.isnull().sum()"
      ],
      "execution_count": null,
      "outputs": [
        {
          "output_type": "execute_result",
          "data": {
            "text/plain": [
              "Year                               0\n",
              "Life expectancy                    0\n",
              "Adult Mortality                    0\n",
              "infant deaths                      0\n",
              "Alcohol                            0\n",
              "percentage expenditure             0\n",
              "Hepatitis B                        0\n",
              "Measles                            0\n",
              " BMI                               0\n",
              "under-five deaths                  0\n",
              "Polio                              0\n",
              "Total expenditure                  0\n",
              "Diphtheria                         0\n",
              " HIV/AIDS                          0\n",
              "GDP                                0\n",
              "Population                         0\n",
              " thinness  1-19 years              0\n",
              " thinness 5-9 years                0\n",
              "Income composition of resources    0\n",
              "Schooling                          0\n",
              "Status_Developed                   0\n",
              "Status_Developing                  0\n",
              "dtype: int64"
            ]
          },
          "metadata": {
            "tags": []
          },
          "execution_count": 372
        }
      ]
    },
    {
      "cell_type": "markdown",
      "metadata": {
        "id": "WtyC_xLvDJkd"
      },
      "source": [
        "### spliting data in dependent variable and independent variable"
      ]
    },
    {
      "cell_type": "code",
      "metadata": {
        "id": "uokmn7OiDS00"
      },
      "source": [
        "x = df.iloc[:,df.columns != 'Life expectancy '].values\n",
        "y = df.iloc[:,df.columns == 'Life expectancy '].values\n"
      ],
      "execution_count": null,
      "outputs": []
    },
    {
      "cell_type": "code",
      "metadata": {
        "id": "hCsz2yCebe1R",
        "colab": {
          "base_uri": "https://localhost:8080/"
        },
        "outputId": "197bc5b8-e440-463a-f20f-608bccbb02c5"
      },
      "source": [
        "print(x)"
      ],
      "execution_count": null,
      "outputs": [
        {
          "output_type": "stream",
          "text": [
            "[[2.02e+03 2.63e+02 6.20e+01 ... 1.01e+01 0.00e+00 1.00e+00]\n",
            " [2.01e+03 2.71e+02 6.40e+01 ... 1.00e+01 0.00e+00 1.00e+00]\n",
            " [2.01e+03 2.68e+02 6.60e+01 ... 9.90e+00 0.00e+00 1.00e+00]\n",
            " ...\n",
            " [2.00e+03 7.30e+01 2.50e+01 ... 1.00e+01 0.00e+00 1.00e+00]\n",
            " [2.00e+03 6.86e+02 2.50e+01 ... 9.80e+00 0.00e+00 1.00e+00]\n",
            " [2.00e+03 6.65e+02 2.40e+01 ... 9.80e+00 0.00e+00 1.00e+00]]\n"
          ],
          "name": "stdout"
        }
      ]
    },
    {
      "cell_type": "code",
      "metadata": {
        "id": "eYrOQ43XcJR3",
        "colab": {
          "base_uri": "https://localhost:8080/"
        },
        "outputId": "dfe43b9e-354c-49d1-e108-09b5a69eb926"
      },
      "source": [
        "print(y)"
      ],
      "execution_count": null,
      "outputs": [
        {
          "output_type": "stream",
          "text": [
            "[[65. ]\n",
            " [59.9]\n",
            " [59.9]\n",
            " ...\n",
            " [44.8]\n",
            " [45.3]\n",
            " [46. ]]\n"
          ],
          "name": "stdout"
        }
      ]
    },
    {
      "cell_type": "markdown",
      "metadata": {
        "id": "3abSxRqvWEIB"
      },
      "source": [
        "### Splitting the dataset into the Training set and Test set"
      ]
    },
    {
      "cell_type": "code",
      "metadata": {
        "id": "9p0AQ2mVCyrL"
      },
      "source": [
        "from sklearn.model_selection import train_test_split\n",
        "\n",
        "x_train, x_test, y_train, y_test = train_test_split(x, y, test_size = 0.2, random_state = 1)"
      ],
      "execution_count": null,
      "outputs": []
    },
    {
      "cell_type": "markdown",
      "metadata": {
        "id": "TpGqbS4TqkIR"
      },
      "source": [
        "### Feature Scaling"
      ]
    },
    {
      "cell_type": "code",
      "metadata": {
        "id": "AxjSUXFQqo-3",
        "colab": {
          "base_uri": "https://localhost:8080/"
        },
        "outputId": "c916fc61-a9ac-46b8-9acc-231c0aad9bce"
      },
      "source": [
        "df.max()"
      ],
      "execution_count": null,
      "outputs": [
        {
          "output_type": "execute_result",
          "data": {
            "text/plain": [
              "Year                               2.015000e+03\n",
              "Life expectancy                    8.900000e+01\n",
              "Adult Mortality                    7.230000e+02\n",
              "infant deaths                      1.800000e+03\n",
              "Alcohol                            1.787000e+01\n",
              "percentage expenditure             1.947991e+04\n",
              "Hepatitis B                        9.900000e+01\n",
              "Measles                            2.121830e+05\n",
              " BMI                               8.730000e+01\n",
              "under-five deaths                  2.500000e+03\n",
              "Polio                              9.900000e+01\n",
              "Total expenditure                  1.760000e+01\n",
              "Diphtheria                         9.900000e+01\n",
              " HIV/AIDS                          5.060000e+01\n",
              "GDP                                1.191727e+05\n",
              "Population                         1.293859e+09\n",
              " thinness  1-19 years              2.770000e+01\n",
              " thinness 5-9 years                2.860000e+01\n",
              "Income composition of resources    9.480000e-01\n",
              "Schooling                          2.070000e+01\n",
              "Status_Developed                   1.000000e+00\n",
              "Status_Developing                  1.000000e+00\n",
              "dtype: float64"
            ]
          },
          "metadata": {
            "tags": []
          },
          "execution_count": 377
        }
      ]
    },
    {
      "cell_type": "code",
      "metadata": {
        "colab": {
          "base_uri": "https://localhost:8080/"
        },
        "id": "9xG8ho29J1up",
        "outputId": "98b25179-8f60-4210-cd21-bf780d3e720b"
      },
      "source": [
        "df.min()"
      ],
      "execution_count": null,
      "outputs": [
        {
          "output_type": "execute_result",
          "data": {
            "text/plain": [
              "Year                               2000.00000\n",
              "Life expectancy                      36.30000\n",
              "Adult Mortality                       1.00000\n",
              "infant deaths                         0.00000\n",
              "Alcohol                               0.01000\n",
              "percentage expenditure                0.00000\n",
              "Hepatitis B                           1.00000\n",
              "Measles                               0.00000\n",
              " BMI                                  1.00000\n",
              "under-five deaths                     0.00000\n",
              "Polio                                 3.00000\n",
              "Total expenditure                     0.37000\n",
              "Diphtheria                            2.00000\n",
              " HIV/AIDS                             0.10000\n",
              "GDP                                   1.68135\n",
              "Population                           34.00000\n",
              " thinness  1-19 years                 0.10000\n",
              " thinness 5-9 years                   0.10000\n",
              "Income composition of resources       0.00000\n",
              "Schooling                             0.00000\n",
              "Status_Developed                      0.00000\n",
              "Status_Developing                     0.00000\n",
              "dtype: float64"
            ]
          },
          "metadata": {
            "tags": []
          },
          "execution_count": 378
        }
      ]
    },
    {
      "cell_type": "markdown",
      "metadata": {
        "id": "CaxG9oCqKlQg"
      },
      "source": [
        "***Note*** : here feature scaling does not require cause it has diverse range all of the column not impact of a single feature(Column)"
      ]
    },
    {
      "cell_type": "markdown",
      "metadata": {
        "id": "uzbXgfbcZvf3"
      },
      "source": [
        "# <font color='Blue'> Regression Model Processing\n",
        "\n",
        "\n",
        "---\n",
        "\n"
      ]
    },
    {
      "cell_type": "code",
      "metadata": {
        "id": "r8klf-ztalDr"
      },
      "source": [
        "# List to Store all Model r_square value\n",
        "\n",
        "modelPerformance = [] "
      ],
      "execution_count": null,
      "outputs": []
    },
    {
      "cell_type": "markdown",
      "metadata": {
        "id": "5kpIh9_oPFQB"
      },
      "source": [
        "## <font color='violate'> ***Multilple Linear Regression***\n"
      ]
    },
    {
      "cell_type": "markdown",
      "metadata": {
        "id": "k-McZVsQBINc"
      },
      "source": [
        "### Training the Multiple Linear Regression model on the Training set"
      ]
    },
    {
      "cell_type": "code",
      "metadata": {
        "id": "ywPjx0L1BMiD",
        "colab": {
          "base_uri": "https://localhost:8080/"
        },
        "outputId": "47f57bcf-c3f5-4d9f-ce59-f78cedc8812c"
      },
      "source": [
        "from sklearn.linear_model import LinearRegression\n",
        "\n",
        "regressor = LinearRegression()\n",
        "regressor.fit(x_train, y_train)"
      ],
      "execution_count": null,
      "outputs": [
        {
          "output_type": "execute_result",
          "data": {
            "text/plain": [
              "LinearRegression(copy_X=True, fit_intercept=True, n_jobs=None, normalize=False)"
            ]
          },
          "metadata": {
            "tags": []
          },
          "execution_count": 380
        }
      ]
    },
    {
      "cell_type": "markdown",
      "metadata": {
        "id": "xNkXL1YQBiBT"
      },
      "source": [
        "### Predicting the Test set results"
      ]
    },
    {
      "cell_type": "code",
      "metadata": {
        "id": "TQKmwvtdBkyb",
        "colab": {
          "base_uri": "https://localhost:8080/"
        },
        "outputId": "e8de665a-a49c-41c3-820e-601a4a4a5e1c"
      },
      "source": [
        "y_pred = regressor.predict(x_test)\n",
        "np.set_printoptions(precision=2)\n",
        "print(np.concatenate((y_pred.reshape(len(y_pred),1), y_test.reshape(len(y_test),1)),1))"
      ],
      "execution_count": null,
      "outputs": [
        {
          "output_type": "stream",
          "text": [
            "[[79.85 82.1 ]\n",
            " [57.23 58.4 ]\n",
            " [64.31 63.3 ]\n",
            " ...\n",
            " [67.69 73.1 ]\n",
            " [54.63 51.3 ]\n",
            " [62.62 58.6 ]]\n"
          ],
          "name": "stdout"
        }
      ]
    },
    {
      "cell_type": "markdown",
      "metadata": {
        "id": "Fz1uTlWV919-"
      },
      "source": [
        "### Evaluating the Model Performance"
      ]
    },
    {
      "cell_type": "code",
      "metadata": {
        "id": "xvZQ_4W893-e"
      },
      "source": [
        "from sklearn.metrics import r2_score\n",
        "modelPerformance.append(r2_score(y_test, y_pred))"
      ],
      "execution_count": null,
      "outputs": []
    },
    {
      "cell_type": "markdown",
      "metadata": {
        "id": "DXfNF2BzPX3I"
      },
      "source": [
        "## <font color='Orange'> ***Polynomial Linear Regression***"
      ]
    },
    {
      "cell_type": "markdown",
      "metadata": {
        "id": "Rb5nWuSHEfBV"
      },
      "source": [
        "### Training the Polynomial Regression model on the Training set"
      ]
    },
    {
      "cell_type": "code",
      "metadata": {
        "id": "HYplp4pTEm0O",
        "colab": {
          "base_uri": "https://localhost:8080/"
        },
        "outputId": "7cd6a54a-f26b-47e2-e68e-c25eb7c633ed"
      },
      "source": [
        "from sklearn.preprocessing import PolynomialFeatures\n",
        "from sklearn.linear_model import LinearRegression\n",
        "\n",
        "poly_reg = PolynomialFeatures(degree = 2)\n",
        "x_poly = poly_reg.fit_transform(x_train)\n",
        "regressor = LinearRegression()\n",
        "regressor.fit(x_poly, y_train)"
      ],
      "execution_count": null,
      "outputs": [
        {
          "output_type": "execute_result",
          "data": {
            "text/plain": [
              "LinearRegression(copy_X=True, fit_intercept=True, n_jobs=None, normalize=False)"
            ]
          },
          "metadata": {
            "tags": []
          },
          "execution_count": 383
        }
      ]
    },
    {
      "cell_type": "markdown",
      "metadata": {
        "id": "pzF3BRps9nlk"
      },
      "source": [
        "### Predicting the Test set results"
      ]
    },
    {
      "cell_type": "code",
      "metadata": {
        "id": "36aFLFBK9pMk",
        "colab": {
          "base_uri": "https://localhost:8080/"
        },
        "outputId": "fff17308-a72f-47c0-993d-cfb4ba680dc3"
      },
      "source": [
        "y_pred = regressor.predict(poly_reg.transform(x_test))\n",
        "np.set_printoptions(precision=2)\n",
        "print(np.concatenate((y_pred.reshape(len(y_pred),1), y_test.reshape(len(y_test),1)),1))"
      ],
      "execution_count": null,
      "outputs": [
        {
          "output_type": "stream",
          "text": [
            "[[82.49 82.1 ]\n",
            " [53.85 58.4 ]\n",
            " [66.44 63.3 ]\n",
            " ...\n",
            " [68.65 73.1 ]\n",
            " [47.56 51.3 ]\n",
            " [60.15 58.6 ]]\n"
          ],
          "name": "stdout"
        }
      ]
    },
    {
      "cell_type": "markdown",
      "metadata": {
        "id": "-8mwHGHZQTGy"
      },
      "source": [
        "### Evaluating the Model Performance"
      ]
    },
    {
      "cell_type": "code",
      "metadata": {
        "id": "7ef3gdB7QTG0"
      },
      "source": [
        "from sklearn.metrics import r2_score\n",
        "modelPerformance.append(r2_score(y_test, y_pred))"
      ],
      "execution_count": null,
      "outputs": []
    },
    {
      "cell_type": "markdown",
      "metadata": {
        "id": "4UPnL92VPovB"
      },
      "source": [
        "## <font color='Green'> ***Support Vector Regression*** "
      ]
    },
    {
      "cell_type": "markdown",
      "metadata": {
        "id": "YS8FeLHYS-nI"
      },
      "source": [
        "### Feature Scaling for Support Vector Regression "
      ]
    },
    {
      "cell_type": "markdown",
      "metadata": {
        "id": "Z-fhsXNMTxnY"
      },
      "source": [
        "***Note*** : Support Vector Regression has an inbuilt function to compute the dataset so we have to provide data in specific range to keep same effect of all column thatswhy we have to scale dataset "
      ]
    },
    {
      "cell_type": "code",
      "metadata": {
        "id": "PGeAlD1HTDI1"
      },
      "source": [
        "from sklearn.preprocessing import StandardScaler\n",
        "\n",
        "sc_x = StandardScaler()\n",
        "sc_y = StandardScaler()\n",
        "x_train_sk = sc_x.fit_transform(x_train)\n",
        "y_train_sk = sc_y.fit_transform(y_train)"
      ],
      "execution_count": null,
      "outputs": []
    },
    {
      "cell_type": "markdown",
      "metadata": {
        "id": "eiU6D2QFRjxY"
      },
      "source": [
        "### Training the SVR model on the Training set"
      ]
    },
    {
      "cell_type": "code",
      "metadata": {
        "id": "y6R4rt_GRz15",
        "colab": {
          "base_uri": "https://localhost:8080/"
        },
        "outputId": "a034ceff-5c1b-45b5-aa1d-2e898e4945f2"
      },
      "source": [
        "from sklearn.svm import SVR\n",
        "\n",
        "regressor = SVR(kernel = 'rbf')\n",
        "regressor.fit(x_train_sk, y_train_sk)"
      ],
      "execution_count": null,
      "outputs": [
        {
          "output_type": "stream",
          "text": [
            "/usr/local/lib/python3.6/dist-packages/sklearn/utils/validation.py:760: DataConversionWarning: A column-vector y was passed when a 1d array was expected. Please change the shape of y to (n_samples, ), for example using ravel().\n",
            "  y = column_or_1d(y, warn=True)\n"
          ],
          "name": "stderr"
        },
        {
          "output_type": "execute_result",
          "data": {
            "text/plain": [
              "SVR(C=1.0, cache_size=200, coef0=0.0, degree=3, epsilon=0.1, gamma='scale',\n",
              "    kernel='rbf', max_iter=-1, shrinking=True, tol=0.001, verbose=False)"
            ]
          },
          "metadata": {
            "tags": []
          },
          "execution_count": 387
        }
      ]
    },
    {
      "cell_type": "markdown",
      "metadata": {
        "id": "aPYA5W1pDBOE"
      },
      "source": [
        "### Predicting the Test set results"
      ]
    },
    {
      "cell_type": "code",
      "metadata": {
        "id": "vSqFVDYrDROW",
        "colab": {
          "base_uri": "https://localhost:8080/"
        },
        "outputId": "650fb1e3-244d-4608-a3a5-a65b285fe762"
      },
      "source": [
        "y_pred = sc_y.inverse_transform(regressor.predict(sc_x.transform(x_test)))\n",
        "np.set_printoptions(precision=2)\n",
        "print(np.concatenate((y_pred.reshape(len(y_pred),1), y_test.reshape(len(y_test),1)),1))"
      ],
      "execution_count": null,
      "outputs": [
        {
          "output_type": "stream",
          "text": [
            "[[82.66 82.1 ]\n",
            " [59.03 58.4 ]\n",
            " [67.02 63.3 ]\n",
            " ...\n",
            " [73.24 73.1 ]\n",
            " [49.83 51.3 ]\n",
            " [56.87 58.6 ]]\n"
          ],
          "name": "stdout"
        }
      ]
    },
    {
      "cell_type": "markdown",
      "metadata": {
        "id": "CMsYlps2DX1d"
      },
      "source": [
        "### Evaluating the Model Performance"
      ]
    },
    {
      "cell_type": "code",
      "metadata": {
        "id": "HxsRWlURDr6S"
      },
      "source": [
        "from sklearn.metrics import r2_score\n",
        "modelPerformance.append(r2_score(y_test, y_pred))"
      ],
      "execution_count": null,
      "outputs": []
    },
    {
      "cell_type": "markdown",
      "metadata": {
        "id": "_ROcqqwdPo3H"
      },
      "source": [
        "## <font color='Purple'> ***Decision Tree Regression***"
      ]
    },
    {
      "cell_type": "markdown",
      "metadata": {
        "id": "g16qFkFQVC35"
      },
      "source": [
        "### Training the Decision Tree Regression model on the Training set"
      ]
    },
    {
      "cell_type": "code",
      "metadata": {
        "id": "SLDKyv1SVUqS",
        "colab": {
          "base_uri": "https://localhost:8080/"
        },
        "outputId": "71befdd7-c42d-4793-c1a0-e418b951cfb9"
      },
      "source": [
        "from sklearn.tree import DecisionTreeRegressor\n",
        "\n",
        "regressor = DecisionTreeRegressor(random_state = 0)\n",
        "regressor.fit(x_train, y_train)"
      ],
      "execution_count": null,
      "outputs": [
        {
          "output_type": "execute_result",
          "data": {
            "text/plain": [
              "DecisionTreeRegressor(ccp_alpha=0.0, criterion='mse', max_depth=None,\n",
              "                      max_features=None, max_leaf_nodes=None,\n",
              "                      min_impurity_decrease=0.0, min_impurity_split=None,\n",
              "                      min_samples_leaf=1, min_samples_split=2,\n",
              "                      min_weight_fraction_leaf=0.0, presort='deprecated',\n",
              "                      random_state=0, splitter='best')"
            ]
          },
          "metadata": {
            "tags": []
          },
          "execution_count": 390
        }
      ]
    },
    {
      "cell_type": "markdown",
      "metadata": {
        "id": "Nao9cdO6IgNb"
      },
      "source": [
        "### Predicting the Test set results"
      ]
    },
    {
      "cell_type": "code",
      "metadata": {
        "id": "EebHA3EOIkQK",
        "colab": {
          "base_uri": "https://localhost:8080/"
        },
        "outputId": "f1476e34-ec3a-434e-9696-7b152ecf7fc0"
      },
      "source": [
        "y_pred = regressor.predict(x_test)\n",
        "np.set_printoptions(precision=2)\n",
        "print(np.concatenate((y_pred.reshape(len(y_pred),1), y_test.reshape(len(y_test),1)),1))"
      ],
      "execution_count": null,
      "outputs": [
        {
          "output_type": "stream",
          "text": [
            "[[81.8 82.1]\n",
            " [55.6 58.4]\n",
            " [65.9 63.3]\n",
            " ...\n",
            " [72.6 73.1]\n",
            " [54.  51.3]\n",
            " [56.3 58.6]]\n"
          ],
          "name": "stdout"
        }
      ]
    },
    {
      "cell_type": "markdown",
      "metadata": {
        "id": "V4nELFnnIod1"
      },
      "source": [
        "### Evaluating the Model Performance"
      ]
    },
    {
      "cell_type": "code",
      "metadata": {
        "id": "_G2QS1UoIsTZ"
      },
      "source": [
        "from sklearn.metrics import r2_score\n",
        "modelPerformance.append(r2_score(y_test, y_pred))"
      ],
      "execution_count": null,
      "outputs": []
    },
    {
      "cell_type": "markdown",
      "metadata": {
        "id": "pTeGzopCPpMZ"
      },
      "source": [
        "## <font color='Blue Flower'> ***Random Forest Regression***"
      ]
    },
    {
      "cell_type": "markdown",
      "metadata": {
        "id": "v4S2fyIBYDcu"
      },
      "source": [
        "### Training the Random Forest Regression model on the whole dataset"
      ]
    },
    {
      "cell_type": "code",
      "metadata": {
        "id": "o8dOCoJ1YKMc",
        "colab": {
          "base_uri": "https://localhost:8080/"
        },
        "outputId": "8f5b541f-847a-44b9-c28d-511327e21bbe"
      },
      "source": [
        "from sklearn.ensemble import RandomForestRegressor\n",
        "\n",
        "regressor = RandomForestRegressor(n_estimators = 10, random_state = 0)\n",
        "regressor.fit(x_train, y_train)"
      ],
      "execution_count": null,
      "outputs": [
        {
          "output_type": "stream",
          "text": [
            "/usr/local/lib/python3.6/dist-packages/ipykernel_launcher.py:4: DataConversionWarning: A column-vector y was passed when a 1d array was expected. Please change the shape of y to (n_samples,), for example using ravel().\n",
            "  after removing the cwd from sys.path.\n"
          ],
          "name": "stderr"
        },
        {
          "output_type": "execute_result",
          "data": {
            "text/plain": [
              "RandomForestRegressor(bootstrap=True, ccp_alpha=0.0, criterion='mse',\n",
              "                      max_depth=None, max_features='auto', max_leaf_nodes=None,\n",
              "                      max_samples=None, min_impurity_decrease=0.0,\n",
              "                      min_impurity_split=None, min_samples_leaf=1,\n",
              "                      min_samples_split=2, min_weight_fraction_leaf=0.0,\n",
              "                      n_estimators=10, n_jobs=None, oob_score=False,\n",
              "                      random_state=0, verbose=0, warm_start=False)"
            ]
          },
          "metadata": {
            "tags": []
          },
          "execution_count": 393
        }
      ]
    },
    {
      "cell_type": "markdown",
      "metadata": {
        "id": "DM_jh0frOPKE"
      },
      "source": [
        "### Predicting the Test set results"
      ]
    },
    {
      "cell_type": "code",
      "metadata": {
        "id": "JGa9ZfM4OTNw",
        "colab": {
          "base_uri": "https://localhost:8080/"
        },
        "outputId": "33dcdc0a-194f-4acd-90a6-f6991b870030"
      },
      "source": [
        "y_pred = regressor.predict(x_test)\n",
        "np.set_printoptions(precision=2)\n",
        "print(np.concatenate((y_pred.reshape(len(y_pred),1), y_test.reshape(len(y_test),1)),1))"
      ],
      "execution_count": null,
      "outputs": [
        {
          "output_type": "stream",
          "text": [
            "[[82.62 82.1 ]\n",
            " [53.83 58.4 ]\n",
            " [64.97 63.3 ]\n",
            " ...\n",
            " [72.63 73.1 ]\n",
            " [50.49 51.3 ]\n",
            " [58.46 58.6 ]]\n"
          ],
          "name": "stdout"
        }
      ]
    },
    {
      "cell_type": "markdown",
      "metadata": {
        "id": "Cd8VZM5POWXN"
      },
      "source": [
        "### Evaluating the Model Performance"
      ]
    },
    {
      "cell_type": "code",
      "metadata": {
        "id": "a7y1rXlfOZJo"
      },
      "source": [
        "from sklearn.metrics import r2_score\n",
        "modelPerformance.append(r2_score(y_test, y_pred))"
      ],
      "execution_count": null,
      "outputs": []
    },
    {
      "cell_type": "markdown",
      "metadata": {
        "id": "wTImwaxUb8t9"
      },
      "source": [
        "# <font color='Magenta'> Analysing Model Performances \n",
        "\n",
        "---\n",
        "\n"
      ]
    },
    {
      "cell_type": "markdown",
      "metadata": {
        "id": "X-fc3dOacRnq"
      },
      "source": [
        "### Preparing Data Of Model Performances "
      ]
    },
    {
      "cell_type": "code",
      "metadata": {
        "colab": {
          "base_uri": "https://localhost:8080/"
        },
        "id": "7xm-vlq6flX3",
        "outputId": "b9010c34-7416-464d-9304-216ea52cc731"
      },
      "source": [
        "xLables = ['Linear (Multiple)','Polynomial','Support Vector','Decision Tree','Random Forest']\n",
        "\n",
        "xCord = np.arange(0,1,0.2)\n",
        "yCord = np.array(modelPerformance)\n",
        "\n",
        "print(yCord)\n"
      ],
      "execution_count": null,
      "outputs": [
        {
          "output_type": "stream",
          "text": [
            "[0.81 0.83 0.92 0.93 0.95]\n"
          ],
          "name": "stdout"
        }
      ]
    },
    {
      "cell_type": "markdown",
      "metadata": {
        "id": "cm1-yNGycJJF"
      },
      "source": [
        "## Ploting Graph Of All Model Performances "
      ]
    },
    {
      "cell_type": "markdown",
      "metadata": {
        "id": "foPXyGOYx8nn"
      },
      "source": [
        "### Ploting Simple Trade Line Graph"
      ]
    },
    {
      "cell_type": "code",
      "metadata": {
        "colab": {
          "base_uri": "https://localhost:8080/",
          "height": 323
        },
        "id": "1DzUq9lweQrH",
        "outputId": "3dfa0a58-5703-4018-f8fa-d148d46575e7"
      },
      "source": [
        "# Ploting a trade simple line graph which shows the change from one model to another model\n",
        "for i in range(1,5) :\n",
        "  xPoint = [xCord[i-1],xCord[i]]\n",
        "  yPoint = [yCord[i-1],yCord[i]]\n",
        "  plt.plot(xPoint,yPoint,marker='o') \n",
        "plt.legend([xLables[0],xLables[1],xLables[2],xLables[3],xLables[4]])\n",
        "\n",
        "plt.xticks(xCord,xLables)\n",
        "plt.xticks(rotation=45, ha=\"right\")\n",
        "\n",
        "plt.show()\n",
        "\n"
      ],
      "execution_count": null,
      "outputs": [
        {
          "output_type": "display_data",
          "data": {
            "image/png": "[encoded data removed]",
            "text/plain": [
              "<Figure size 432x288 with 1 Axes>"
            ]
          },
          "metadata": {
            "tags": [],
            "needs_background": "light"
          }
        }
      ]
    },
    {
      "cell_type": "markdown",
      "metadata": {
        "id": "VpydfhZ7ySq8"
      },
      "source": [
        "### Ploting Simple Bar Chard "
      ]
    },
    {
      "cell_type": "code",
      "metadata": {
        "colab": {
          "base_uri": "https://localhost:8080/",
          "height": 350
        },
        "id": "aaBB3odUhNqn",
        "outputId": "26aa22f7-5918-42ce-acea-c9c4b9f0fab6"
      },
      "source": [
        "width = 0.15\n",
        "plt.xticks(xCord,xLables)\n",
        "plt.xticks(rotation=45, ha=\"right\")\n",
        "\n",
        "plt.bar(xCord,yCord, width)\n",
        "plt.title('Model Proficiency')\n",
        "plt.xlabel('Model')\n",
        "plt.ylabel('Model Performance')\n",
        "\n",
        "plt.show()"
      ],
      "execution_count": null,
      "outputs": [
        {
          "output_type": "display_data",
          "data": {
            "image/png": "[encoded data removed]",
            "text/plain": [
              "<Figure size 432x288 with 1 Axes>"
            ]
          },
          "metadata": {
            "tags": [],
            "needs_background": "light"
          }
        }
      ]
    },
    {
      "cell_type": "code",
      "metadata": {
        "id": "gqRj-xfZru18"
      },
      "source": [
        ""
      ],
      "execution_count": null,
      "outputs": []
    }
  ]
}